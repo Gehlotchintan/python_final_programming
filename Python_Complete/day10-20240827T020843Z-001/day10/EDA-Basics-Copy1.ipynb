{
 "cells": [
  {
   "cell_type": "markdown",
   "id": "e37fa7ee",
   "metadata": {},
   "source": [
    "# Data Analysis\n",
    " - Data analysis is a broad term that refers to the process of inspecting, cleaning, transforming, and modeling data with the goal of extracting useful insights and information from it. This can involve a wide range of techniques and tools, including statistical analysis, machine learning, and data visualization.\n",
    " \n",
    "# Exploratory Data Analysis\n",
    "- Exploratory data analysis (EDA) is a specific type of data analysis that is focused on gaining an initial understanding of the data and identifying any patterns, trends, or relationships that may be present. This is typically done before more advanced techniques are applied and can involve various methods such as data visualization, summary statistics, and hypothesis testing."
   ]
  },
  {
   "cell_type": "markdown",
   "id": "6f053bde",
   "metadata": {},
   "source": [
    "# Steps Of EDA"
   ]
  },
  {
   "cell_type": "markdown",
   "id": "56347766",
   "metadata": {},
   "source": [
    "## importing required Libraries"
   ]
  },
  {
   "cell_type": "code",
   "execution_count": 76,
   "id": "3ad6f2c0",
   "metadata": {},
   "outputs": [],
   "source": [
    "import pandas as pd\n",
    "import numpy as np \n",
    "import matplotlib.pyplot as plt\n",
    "import seaborn as sns\n",
    "\n",
    "# %matplotlib inline\n",
    "%matplotlib notebook"
   ]
  },
  {
   "cell_type": "markdown",
   "id": "73cee2a8",
   "metadata": {},
   "source": [
    "## Load Dataset"
   ]
  },
  {
   "cell_type": "code",
   "execution_count": null,
   "id": "e26a14e0",
   "metadata": {},
   "outputs": [],
   "source": []
  },
  {
   "cell_type": "code",
   "execution_count": null,
   "id": "8459f91d",
   "metadata": {},
   "outputs": [],
   "source": []
  },
  {
   "cell_type": "code",
   "execution_count": null,
   "id": "f97429b4",
   "metadata": {},
   "outputs": [],
   "source": []
  },
  {
   "cell_type": "code",
   "execution_count": null,
   "id": "e34e8e29",
   "metadata": {},
   "outputs": [],
   "source": []
  },
  {
   "cell_type": "code",
   "execution_count": null,
   "id": "8d73c408",
   "metadata": {},
   "outputs": [],
   "source": []
  },
  {
   "cell_type": "markdown",
   "id": "3d9a09e4",
   "metadata": {},
   "source": [
    "## Validate few lines of dataset"
   ]
  },
  {
   "cell_type": "code",
   "execution_count": null,
   "id": "8b3fcd13",
   "metadata": {},
   "outputs": [],
   "source": []
  },
  {
   "cell_type": "code",
   "execution_count": null,
   "id": "ead986e4",
   "metadata": {},
   "outputs": [],
   "source": []
  },
  {
   "cell_type": "code",
   "execution_count": null,
   "id": "9c78c6f3",
   "metadata": {},
   "outputs": [],
   "source": []
  },
  {
   "cell_type": "markdown",
   "id": "13b3ef1f",
   "metadata": {},
   "source": [
    "## Check the Shape of Data\n",
    " - Rows\n",
    " - Columns"
   ]
  },
  {
   "cell_type": "code",
   "execution_count": null,
   "id": "d4a093f6",
   "metadata": {},
   "outputs": [],
   "source": []
  },
  {
   "cell_type": "code",
   "execution_count": null,
   "id": "65d1a768",
   "metadata": {},
   "outputs": [],
   "source": []
  },
  {
   "cell_type": "code",
   "execution_count": null,
   "id": "d55a80da",
   "metadata": {},
   "outputs": [],
   "source": []
  },
  {
   "cell_type": "markdown",
   "id": "d6ad801f",
   "metadata": {},
   "source": [
    "## Check dataset Structure\n",
    "- verify columns format\n",
    "- check for non-null values\n",
    "- memory usage\n"
   ]
  },
  {
   "cell_type": "code",
   "execution_count": null,
   "id": "1b235bf9",
   "metadata": {},
   "outputs": [],
   "source": []
  },
  {
   "cell_type": "code",
   "execution_count": null,
   "id": "8a484781",
   "metadata": {},
   "outputs": [],
   "source": []
  },
  {
   "cell_type": "code",
   "execution_count": null,
   "id": "544a773d",
   "metadata": {},
   "outputs": [],
   "source": []
  },
  {
   "cell_type": "code",
   "execution_count": null,
   "id": "5865257f",
   "metadata": {},
   "outputs": [],
   "source": []
  },
  {
   "cell_type": "markdown",
   "id": "a8b209d5",
   "metadata": {},
   "source": [
    "## Check Descriptive Stats\n",
    "- mean\n",
    "- Standard Deviation\n",
    "- min, max\n",
    "- Quartiles 25%, 50%, 75%"
   ]
  },
  {
   "cell_type": "code",
   "execution_count": null,
   "id": "5612bc79",
   "metadata": {},
   "outputs": [],
   "source": []
  },
  {
   "cell_type": "code",
   "execution_count": null,
   "id": "e9e204cb",
   "metadata": {},
   "outputs": [],
   "source": []
  },
  {
   "cell_type": "code",
   "execution_count": null,
   "id": "0cb3c17a",
   "metadata": {},
   "outputs": [],
   "source": []
  },
  {
   "cell_type": "code",
   "execution_count": null,
   "id": "f4d7e963",
   "metadata": {},
   "outputs": [],
   "source": []
  },
  {
   "cell_type": "code",
   "execution_count": null,
   "id": "941b69f2",
   "metadata": {},
   "outputs": [],
   "source": []
  },
  {
   "cell_type": "markdown",
   "id": "83b011e5",
   "metadata": {},
   "source": [
    "## Treat missing Values\n",
    "- Check missing Values\n",
    "- Ways to treat \n",
    "    - drop Columns/rows\n",
    "    - filling with Constant, Mean, Mode, as Previous/next row\n",
    "    - Predicting"
   ]
  },
  {
   "cell_type": "code",
   "execution_count": 1,
   "id": "0fc6976c",
   "metadata": {},
   "outputs": [],
   "source": [
    "# check missing values\n"
   ]
  },
  {
   "cell_type": "code",
   "execution_count": null,
   "id": "2c9583a3",
   "metadata": {},
   "outputs": [],
   "source": []
  },
  {
   "cell_type": "code",
   "execution_count": null,
   "id": "834bf1f3",
   "metadata": {},
   "outputs": [],
   "source": []
  },
  {
   "cell_type": "code",
   "execution_count": null,
   "id": "4948fea1",
   "metadata": {},
   "outputs": [],
   "source": []
  },
  {
   "cell_type": "code",
   "execution_count": null,
   "id": "081b37b9",
   "metadata": {},
   "outputs": [],
   "source": []
  },
  {
   "cell_type": "code",
   "execution_count": null,
   "id": "3104be97",
   "metadata": {},
   "outputs": [],
   "source": []
  },
  {
   "cell_type": "code",
   "execution_count": 2,
   "id": "42903e95",
   "metadata": {},
   "outputs": [],
   "source": [
    "# fillin with Constant\n"
   ]
  },
  {
   "cell_type": "code",
   "execution_count": 3,
   "id": "5af44c1d",
   "metadata": {},
   "outputs": [],
   "source": [
    "# fill with mean\n"
   ]
  },
  {
   "cell_type": "code",
   "execution_count": null,
   "id": "22833ff4",
   "metadata": {},
   "outputs": [],
   "source": []
  },
  {
   "cell_type": "code",
   "execution_count": 4,
   "id": "428942cf",
   "metadata": {},
   "outputs": [],
   "source": [
    "# fill with median\n"
   ]
  },
  {
   "cell_type": "code",
   "execution_count": null,
   "id": "c39ebc38",
   "metadata": {},
   "outputs": [],
   "source": []
  },
  {
   "cell_type": "code",
   "execution_count": null,
   "id": "d6e3d8d5",
   "metadata": {},
   "outputs": [],
   "source": []
  },
  {
   "cell_type": "code",
   "execution_count": null,
   "id": "bd54be77",
   "metadata": {},
   "outputs": [],
   "source": []
  },
  {
   "cell_type": "code",
   "execution_count": null,
   "id": "78d2d784",
   "metadata": {},
   "outputs": [],
   "source": []
  },
  {
   "cell_type": "code",
   "execution_count": null,
   "id": "0e38021c",
   "metadata": {},
   "outputs": [],
   "source": []
  },
  {
   "cell_type": "code",
   "execution_count": 5,
   "id": "262a798c",
   "metadata": {},
   "outputs": [],
   "source": [
    "# filling from previous row\n"
   ]
  },
  {
   "cell_type": "code",
   "execution_count": 6,
   "id": "16dbbc5f",
   "metadata": {},
   "outputs": [],
   "source": [
    "# filling from next row\n"
   ]
  },
  {
   "cell_type": "code",
   "execution_count": null,
   "id": "906834aa",
   "metadata": {},
   "outputs": [],
   "source": []
  },
  {
   "cell_type": "code",
   "execution_count": null,
   "id": "cc986b7d",
   "metadata": {},
   "outputs": [],
   "source": []
  },
  {
   "cell_type": "markdown",
   "id": "64e30b6b",
   "metadata": {},
   "source": [
    "##  Treat Outliers\n",
    "- Detect Outliers\n",
    "    - Box Plot\n",
    "    - Violin Plot\n",
    "    - IQR\n",
    "- Ways to handle\n",
    "    - Droping outliers\n",
    "    - Imputation - **Median**\n",
    "    - Quantile based flooring and capping\n",
    "    - Transformations - Log transformation can help to reduce the effect of outliers"
   ]
  },
  {
   "cell_type": "code",
   "execution_count": null,
   "id": "6f32f141",
   "metadata": {},
   "outputs": [],
   "source": []
  },
  {
   "cell_type": "code",
   "execution_count": 7,
   "id": "1d2cd2ea",
   "metadata": {},
   "outputs": [],
   "source": [
    "# using boxplot\n"
   ]
  },
  {
   "cell_type": "code",
   "execution_count": 8,
   "id": "f4b8bcb6",
   "metadata": {},
   "outputs": [],
   "source": [
    "# using violinplot\n"
   ]
  },
  {
   "cell_type": "code",
   "execution_count": 9,
   "id": "f763a222",
   "metadata": {},
   "outputs": [],
   "source": [
    "# using violinplot\n"
   ]
  },
  {
   "cell_type": "code",
   "execution_count": 10,
   "id": "0ae38645",
   "metadata": {},
   "outputs": [],
   "source": [
    "# detect and extract outliers - way\n"
   ]
  },
  {
   "cell_type": "code",
   "execution_count": null,
   "id": "902e3982",
   "metadata": {},
   "outputs": [],
   "source": []
  },
  {
   "cell_type": "code",
   "execution_count": 11,
   "id": "5108994a",
   "metadata": {},
   "outputs": [],
   "source": [
    "# extract\n"
   ]
  },
  {
   "cell_type": "code",
   "execution_count": 12,
   "id": "6c2543e7",
   "metadata": {},
   "outputs": [],
   "source": [
    "# Way - 1 Treating outliers by dropping\n"
   ]
  },
  {
   "cell_type": "code",
   "execution_count": 13,
   "id": "f1bb88e1",
   "metadata": {},
   "outputs": [],
   "source": [
    "# using boxplot\n"
   ]
  },
  {
   "cell_type": "code",
   "execution_count": 14,
   "id": "8de24782",
   "metadata": {},
   "outputs": [],
   "source": [
    "# Way 2 - Quatile based flooring and capping\n"
   ]
  },
  {
   "cell_type": "code",
   "execution_count": null,
   "id": "18c0f050",
   "metadata": {},
   "outputs": [],
   "source": []
  },
  {
   "cell_type": "code",
   "execution_count": 15,
   "id": "97ee5fdf",
   "metadata": {},
   "outputs": [],
   "source": [
    "# using boxplot\n"
   ]
  },
  {
   "cell_type": "code",
   "execution_count": 16,
   "id": "76526bd6",
   "metadata": {},
   "outputs": [],
   "source": [
    "# Way 3 - imputing using median\n"
   ]
  },
  {
   "cell_type": "code",
   "execution_count": 17,
   "id": "f2297067",
   "metadata": {},
   "outputs": [],
   "source": [
    "# Way - Log Transformation\n"
   ]
  },
  {
   "cell_type": "code",
   "execution_count": null,
   "id": "fc8ea104",
   "metadata": {},
   "outputs": [],
   "source": []
  },
  {
   "cell_type": "code",
   "execution_count": null,
   "id": "c985f864",
   "metadata": {},
   "outputs": [],
   "source": []
  },
  {
   "cell_type": "code",
   "execution_count": 46,
   "id": "c5cd048f",
   "metadata": {},
   "outputs": [],
   "source": [
    "# Task\n",
    "# drop ouliers from sales_log\n",
    "#"
   ]
  },
  {
   "cell_type": "code",
   "execution_count": null,
   "id": "e3b2ed17",
   "metadata": {},
   "outputs": [],
   "source": []
  },
  {
   "cell_type": "markdown",
   "id": "321df340",
   "metadata": {},
   "source": [
    "## Cheking for correlations"
   ]
  },
  {
   "cell_type": "code",
   "execution_count": null,
   "id": "bb3d43df",
   "metadata": {},
   "outputs": [],
   "source": []
  },
  {
   "cell_type": "code",
   "execution_count": 18,
   "id": "a11e83e9",
   "metadata": {},
   "outputs": [],
   "source": [
    "# heatmap\n"
   ]
  },
  {
   "cell_type": "code",
   "execution_count": null,
   "id": "1c02fee0",
   "metadata": {},
   "outputs": [],
   "source": []
  },
  {
   "cell_type": "code",
   "execution_count": null,
   "id": "b8d7178d",
   "metadata": {},
   "outputs": [],
   "source": []
  },
  {
   "cell_type": "code",
   "execution_count": null,
   "id": "ffc17b55",
   "metadata": {},
   "outputs": [],
   "source": []
  },
  {
   "cell_type": "code",
   "execution_count": null,
   "id": "c94f7fca",
   "metadata": {},
   "outputs": [],
   "source": []
  },
  {
   "cell_type": "markdown",
   "id": "6733533f",
   "metadata": {},
   "source": [
    "## Graph Visualization\n",
    "- **Scatter Plot** \n",
    "    - Scatter plots are a type of data visualization used to display the relationship between two continuous variables. \n",
    "    - They can be useful for identifying patterns or trends in data, and for detecting outliers or anomalies. \n",
    "    - Scatter plots can also be used to explore the correlation or causation between variables, and to identify potential relationships or associations that may exist.\n",
    "- **Bar Plot**\n",
    "    - A bar plot is a data visualization that represents data with rectangular bars.\n",
    "    - where the length of each bar corresponds to the magnitude of the value it represents.\n",
    "- **Histogram**\n",
    "    - A histogram is a type of data visualization that displays the distribution of a numerical variable. \n",
    "    - It divides the range of the variable into intervals called bins and shows the number of observations that fall into each bin as a bar.\n"
   ]
  },
  {
   "cell_type": "markdown",
   "id": "bc09217a",
   "metadata": {},
   "source": [
    "**Line Plot**"
   ]
  },
  {
   "cell_type": "code",
   "execution_count": null,
   "id": "1137caf3",
   "metadata": {},
   "outputs": [],
   "source": []
  },
  {
   "cell_type": "markdown",
   "id": "d370cd3f",
   "metadata": {},
   "source": [
    "**Scatter plot**"
   ]
  },
  {
   "cell_type": "code",
   "execution_count": null,
   "id": "bef16d23",
   "metadata": {},
   "outputs": [],
   "source": []
  },
  {
   "cell_type": "code",
   "execution_count": null,
   "id": "5a234380",
   "metadata": {},
   "outputs": [],
   "source": []
  },
  {
   "cell_type": "code",
   "execution_count": null,
   "id": "5fc11abd",
   "metadata": {},
   "outputs": [],
   "source": []
  },
  {
   "cell_type": "markdown",
   "id": "80d54243",
   "metadata": {},
   "source": [
    "**Bar Plot**"
   ]
  },
  {
   "cell_type": "code",
   "execution_count": null,
   "id": "29ee38d3",
   "metadata": {},
   "outputs": [],
   "source": []
  },
  {
   "cell_type": "code",
   "execution_count": null,
   "id": "0f40ee8a",
   "metadata": {},
   "outputs": [],
   "source": []
  },
  {
   "cell_type": "code",
   "execution_count": null,
   "id": "1f501c47",
   "metadata": {},
   "outputs": [],
   "source": []
  },
  {
   "cell_type": "code",
   "execution_count": null,
   "id": "a2912087",
   "metadata": {},
   "outputs": [],
   "source": []
  },
  {
   "cell_type": "code",
   "execution_count": null,
   "id": "64f6eb84",
   "metadata": {},
   "outputs": [],
   "source": []
  },
  {
   "cell_type": "code",
   "execution_count": null,
   "id": "cc0ec488",
   "metadata": {},
   "outputs": [],
   "source": []
  },
  {
   "cell_type": "markdown",
   "id": "3d5e6cf5",
   "metadata": {},
   "source": [
    "**Histogram**"
   ]
  },
  {
   "cell_type": "code",
   "execution_count": null,
   "id": "00105966",
   "metadata": {},
   "outputs": [],
   "source": []
  },
  {
   "cell_type": "code",
   "execution_count": null,
   "id": "03159a78",
   "metadata": {},
   "outputs": [],
   "source": []
  },
  {
   "cell_type": "code",
   "execution_count": null,
   "id": "61198cdb",
   "metadata": {},
   "outputs": [],
   "source": []
  },
  {
   "cell_type": "code",
   "execution_count": null,
   "id": "252f9dc6",
   "metadata": {},
   "outputs": [],
   "source": []
  },
  {
   "cell_type": "markdown",
   "id": "75114256",
   "metadata": {},
   "source": [
    "**Pie Chart**"
   ]
  },
  {
   "cell_type": "code",
   "execution_count": null,
   "id": "b11da711",
   "metadata": {},
   "outputs": [],
   "source": []
  },
  {
   "cell_type": "code",
   "execution_count": null,
   "id": "5fa4b852",
   "metadata": {},
   "outputs": [],
   "source": []
  },
  {
   "cell_type": "code",
   "execution_count": null,
   "id": "f8f4f44c",
   "metadata": {},
   "outputs": [],
   "source": []
  },
  {
   "cell_type": "code",
   "execution_count": null,
   "id": "6c3e04d1",
   "metadata": {},
   "outputs": [],
   "source": []
  },
  {
   "cell_type": "code",
   "execution_count": null,
   "id": "e6f8d02e",
   "metadata": {},
   "outputs": [],
   "source": []
  },
  {
   "cell_type": "code",
   "execution_count": null,
   "id": "50a12c74",
   "metadata": {},
   "outputs": [],
   "source": []
  },
  {
   "cell_type": "markdown",
   "id": "b818d7f6",
   "metadata": {},
   "source": [
    "**3D Visualization**"
   ]
  },
  {
   "cell_type": "code",
   "execution_count": null,
   "id": "b96c2a2e",
   "metadata": {},
   "outputs": [],
   "source": []
  },
  {
   "cell_type": "code",
   "execution_count": null,
   "id": "9e6dd61f",
   "metadata": {},
   "outputs": [],
   "source": []
  },
  {
   "cell_type": "code",
   "execution_count": null,
   "id": "8f60607a",
   "metadata": {},
   "outputs": [],
   "source": []
  },
  {
   "cell_type": "code",
   "execution_count": null,
   "id": "6ab235c1",
   "metadata": {},
   "outputs": [],
   "source": []
  }
 ],
 "metadata": {
  "kernelspec": {
   "display_name": "Python 3 (ipykernel)",
   "language": "python",
   "name": "python3"
  },
  "language_info": {
   "codemirror_mode": {
    "name": "ipython",
    "version": 3
   },
   "file_extension": ".py",
   "mimetype": "text/x-python",
   "name": "python",
   "nbconvert_exporter": "python",
   "pygments_lexer": "ipython3",
   "version": "3.10.6"
  },
  "toc": {
   "base_numbering": 1,
   "nav_menu": {},
   "number_sections": true,
   "sideBar": true,
   "skip_h1_title": false,
   "title_cell": "Table of Contents",
   "title_sidebar": "Contents",
   "toc_cell": false,
   "toc_position": {},
   "toc_section_display": true,
   "toc_window_display": false
  }
 },
 "nbformat": 4,
 "nbformat_minor": 5
}
