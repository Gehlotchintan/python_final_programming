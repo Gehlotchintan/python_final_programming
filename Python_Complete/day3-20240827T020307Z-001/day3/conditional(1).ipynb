{
 "cells": [
  {
   "cell_type": "markdown",
   "metadata": {},
   "source": [
    "# Conditionals\n",
    "<img src=\"Conditional-Statements.jpg\">"
   ]
  },
  {
   "cell_type": "code",
   "execution_count": 7,
   "metadata": {},
   "outputs": [],
   "source": [
    "age = 12"
   ]
  },
  {
   "cell_type": "code",
   "execution_count": 8,
   "metadata": {},
   "outputs": [
    {
     "name": "stdout",
     "output_type": "stream",
     "text": [
      "Finished!\n"
     ]
    }
   ],
   "source": [
    "if age > 18:\n",
    "    print(\"Eligible for Credit Card!\")\n",
    "    print('submit application')\n",
    "print('Finished!')"
   ]
  },
  {
   "cell_type": "code",
   "execution_count": 11,
   "metadata": {},
   "outputs": [
    {
     "name": "stdout",
     "output_type": "stream",
     "text": [
      "Eligible for green card!\n",
      "Finished!\n"
     ]
    }
   ],
   "source": [
    "age = 12\n",
    "\n",
    "if age > 18:\n",
    "    print(\"Eligible for Credit Card!\")\n",
    "    print('submit application')\n",
    "else:\n",
    "    print(\"Eligible for green card!\")\n",
    "print('Finished!')"
   ]
  },
  {
   "cell_type": "code",
   "execution_count": 14,
   "metadata": {},
   "outputs": [
    {
     "name": "stdout",
     "output_type": "stream",
     "text": [
      "You are not eligible!\n",
      "Finished!\n"
     ]
    }
   ],
   "source": [
    "age = 15\n",
    "\n",
    "if age > 18:\n",
    "    print(\"Eligible for Credit Card!\")\n",
    "    print('submit application')\n",
    "elif age >= 16:\n",
    "    print(\"Eligible for green card!\")\n",
    "else:\n",
    "    print('You are not eligible!')\n",
    "print('Finished!')"
   ]
  },
  {
   "cell_type": "code",
   "execution_count": 15,
   "metadata": {},
   "outputs": [
    {
     "name": "stdout",
     "output_type": "stream",
     "text": [
      "Eligible for Zero Balance Account!\n",
      "Finished!\n"
     ]
    }
   ],
   "source": [
    "age = 15\n",
    "\n",
    "if age > 18:\n",
    "    print(\"Eligible for Credit Card!\")\n",
    "    print('submit application')\n",
    "elif age >= 16:\n",
    "    print(\"Eligible for green card!\")\n",
    "elif age >= 12:\n",
    "    print(\"Eligible for Zero Balance Account!\")\n",
    "else:\n",
    "    print('You are not eligible!')\n",
    "print('Finished!')"
   ]
  },
  {
   "cell_type": "code",
   "execution_count": null,
   "metadata": {},
   "outputs": [],
   "source": []
  },
  {
   "cell_type": "code",
   "execution_count": null,
   "metadata": {},
   "outputs": [],
   "source": []
  },
  {
   "cell_type": "markdown",
   "metadata": {},
   "source": [
    "# Nested If-elif-else"
   ]
  },
  {
   "cell_type": "code",
   "execution_count": 18,
   "metadata": {},
   "outputs": [
    {
     "name": "stdout",
     "output_type": "stream",
     "text": [
      "Eligible for ATM Card!\n",
      "Finished!\n"
     ]
    }
   ],
   "source": [
    "age = 21\n",
    "salary = 35000\n",
    "\n",
    "if age > 18:\n",
    "    if salary > 40000:\n",
    "        print(\"Eligible for Credit Card!\")\n",
    "        print('submit application')\n",
    "    else:\n",
    "        print(\"Eligible for ATM Card!\")\n",
    "elif age >= 16:\n",
    "    print(\"Eligible for green card!\")\n",
    "elif age >= 12:\n",
    "    print(\"Eligible for Zero Balance Account!\")\n",
    "else:\n",
    "    print('You are not eligible!')\n",
    "print('Finished!')"
   ]
  },
  {
   "cell_type": "code",
   "execution_count": 19,
   "metadata": {},
   "outputs": [
    {
     "name": "stdout",
     "output_type": "stream",
     "text": [
      "Eligible for ATM Card!\n",
      "Finished!\n"
     ]
    }
   ],
   "source": [
    "age = 21\n",
    "salary = 35000\n",
    "\n",
    "if age > 18 and salary > 40000:\n",
    "    print(\"Eligible for Credit Card!\")\n",
    "    print('submit application')\n",
    "elif age > 18:\n",
    "    print(\"Eligible for ATM Card!\")\n",
    "elif age >= 16:\n",
    "    print(\"Eligible for green card!\")\n",
    "elif age >= 12:\n",
    "    print(\"Eligible for Zero Balance Account!\")\n",
    "else:\n",
    "    print('You are not eligible!')\n",
    "print('Finished!')"
   ]
  },
  {
   "cell_type": "code",
   "execution_count": null,
   "metadata": {},
   "outputs": [],
   "source": []
  },
  {
   "cell_type": "code",
   "execution_count": 26,
   "metadata": {},
   "outputs": [
    {
     "data": {
      "text/plain": [
       "6"
      ]
     },
     "execution_count": 26,
     "metadata": {},
     "output_type": "execute_result"
    }
   ],
   "source": [
    "# calculate the length of string, list, tuple, set, dict\n",
    "s = 'Python'\n",
    "len(s)"
   ]
  },
  {
   "cell_type": "markdown",
   "metadata": {},
   "source": [
    "# Ternary Operator"
   ]
  },
  {
   "cell_type": "code",
   "execution_count": 20,
   "metadata": {},
   "outputs": [],
   "source": [
    "a, b = 45, 67"
   ]
  },
  {
   "cell_type": "code",
   "execution_count": 21,
   "metadata": {},
   "outputs": [],
   "source": [
    "largest = 0\n",
    "if a > b:\n",
    "    largest = a\n",
    "else:\n",
    "    largest = b"
   ]
  },
  {
   "cell_type": "code",
   "execution_count": 22,
   "metadata": {},
   "outputs": [
    {
     "data": {
      "text/plain": [
       "67"
      ]
     },
     "execution_count": 22,
     "metadata": {},
     "output_type": "execute_result"
    }
   ],
   "source": [
    "largest"
   ]
  },
  {
   "cell_type": "code",
   "execution_count": 23,
   "metadata": {},
   "outputs": [
    {
     "data": {
      "text/plain": [
       "67"
      ]
     },
     "execution_count": 23,
     "metadata": {},
     "output_type": "execute_result"
    }
   ],
   "source": [
    "largest = a if a > b else b\n",
    "largest"
   ]
  },
  {
   "cell_type": "code",
   "execution_count": 25,
   "metadata": {},
   "outputs": [
    {
     "data": {
      "text/plain": [
       "111"
      ]
     },
     "execution_count": 25,
     "metadata": {},
     "output_type": "execute_result"
    }
   ],
   "source": [
    "a, b, c = 45, 67, 111\n",
    "largest = a if (a>b and a>c) else (b if (b>a and b>c) else c)\n",
    "largest"
   ]
  },
  {
   "cell_type": "code",
   "execution_count": null,
   "metadata": {},
   "outputs": [],
   "source": []
  },
  {
   "cell_type": "markdown",
   "metadata": {},
   "source": [
    "**Take Three number as input and calculate the average**"
   ]
  },
  {
   "cell_type": "code",
   "execution_count": null,
   "metadata": {},
   "outputs": [],
   "source": []
  },
  {
   "cell_type": "code",
   "execution_count": null,
   "metadata": {},
   "outputs": [],
   "source": []
  },
  {
   "cell_type": "markdown",
   "metadata": {},
   "source": [
    "**Take 4 numbers as input and print tha largest, using if-else-elif and also using Ternary opeartor**"
   ]
  },
  {
   "cell_type": "code",
   "execution_count": null,
   "metadata": {},
   "outputs": [],
   "source": []
  },
  {
   "cell_type": "code",
   "execution_count": 6,
   "metadata": {},
   "outputs": [
    {
     "data": {
      "text/plain": [
       "111"
      ]
     },
     "execution_count": 6,
     "metadata": {},
     "output_type": "execute_result"
    }
   ],
   "source": [
    "a, b, c, d = 45, 67, 111, 9\n",
    "largest = a if (a>b and a>c and a>d) else (b if (b>a and b>c and b>d) else (c if (c>a and c>b and c>d) else d))\n",
    "largest"
   ]
  },
  {
   "cell_type": "markdown",
   "metadata": {},
   "source": [
    "**Take a Sentance as input and calculate length of each word**"
   ]
  },
  {
   "cell_type": "code",
   "execution_count": null,
   "metadata": {},
   "outputs": [],
   "source": []
  },
  {
   "cell_type": "code",
   "execution_count": null,
   "metadata": {},
   "outputs": [],
   "source": []
  }
 ],
 "metadata": {
  "kernelspec": {
   "display_name": "Python 3 (ipykernel)",
   "language": "python",
   "name": "python3"
  },
  "language_info": {
   "codemirror_mode": {
    "name": "ipython",
    "version": 3
   },
   "file_extension": ".py",
   "mimetype": "text/x-python",
   "name": "python",
   "nbconvert_exporter": "python",
   "pygments_lexer": "ipython3",
   "version": "3.10.6"
  },
  "toc": {
   "base_numbering": 1,
   "nav_menu": {},
   "number_sections": true,
   "sideBar": true,
   "skip_h1_title": false,
   "title_cell": "Table of Contents",
   "title_sidebar": "Contents",
   "toc_cell": false,
   "toc_position": {},
   "toc_section_display": true,
   "toc_window_display": false
  },
  "vscode": {
   "interpreter": {
    "hash": "369f2c481f4da34e4445cda3fffd2e751bd1c4d706f27375911949ba6bb62e1c"
   }
  }
 },
 "nbformat": 4,
 "nbformat_minor": 2
}
